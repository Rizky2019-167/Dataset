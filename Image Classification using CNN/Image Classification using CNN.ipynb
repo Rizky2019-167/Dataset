{
 "cells": [
  {
   "cell_type": "markdown",
   "metadata": {},
   "source": [
    "<h3>1. Import module yang dibutuhkan</h3>"
   ]
  },
  {
   "cell_type": "code",
   "execution_count": 2,
   "metadata": {},
   "outputs": [],
   "source": [
    "from sklearn.model_selection import train_test_split\n",
    "from sklearn.preprocessing import LabelEncoder\n",
    "from sklearn.metrics import classification_report\n",
    "from tensorflow.keras.models import Sequential\n",
    "from tensorflow.keras.layers import InputLayer, Flatten, Dense, Conv2D, MaxPool2D, Dropout\n",
    "from tensorflow.keras.optimizers import Adam\n",
    "import numpy as np\n",
    "import cv2\n",
    "import glob\n",
    "import matplotlib.pyplot as plt"
   ]
  },
  {
   "cell_type": "markdown",
   "metadata": {},
   "source": [
    "<h3>2. Load Dataset</h3>"
   ]
  },
  {
   "cell_type": "code",
   "execution_count": 3,
   "metadata": {},
   "outputs": [],
   "source": [
    "imagePaths = 'dataset\\\\daun\\\\'\n",
    "label_list = ['lidah buaya', 'pepaya']\n",
    "data = []\n",
    "labels = []"
   ]
  },
  {
   "cell_type": "code",
   "execution_count": 4,
   "metadata": {},
   "outputs": [],
   "source": [
    "for label in label_list:\n",
    "    for imagePath in glob.glob(imagePaths+label+'\\\\*.jpg'):\n",
    "        #print(imagePath)\n",
    "        image = cv2.imread(imagePath)\n",
    "        image = cv2.resize(image, (32, 32))\n",
    "        data.append(image)\n",
    "        labels.append(label)"
   ]
  },
  {
   "cell_type": "code",
   "execution_count": 5,
   "metadata": {},
   "outputs": [
    {
     "data": {
      "text/plain": [
       "(100, 32, 32, 3)"
      ]
     },
     "execution_count": 5,
     "metadata": {},
     "output_type": "execute_result"
    }
   ],
   "source": [
    "np.array(data).shape"
   ]
  },
  {
   "cell_type": "markdown",
   "metadata": {},
   "source": [
    "<h3>3. Data Preprocessing</h3>"
   ]
  },
  {
   "cell_type": "code",
   "execution_count": 6,
   "metadata": {},
   "outputs": [],
   "source": [
    "# ubah type data dari list menjadi array\n",
    "# ubah nilai dari tiap pixel menjadi range [0..1]\n",
    "data = np.array(data, dtype='float') / 255.0\n",
    "labels = np.array(labels)"
   ]
  },
  {
   "cell_type": "code",
   "execution_count": 7,
   "metadata": {},
   "outputs": [
    {
     "name": "stdout",
     "output_type": "stream",
     "text": [
      "['lidah buaya' 'lidah buaya' 'lidah buaya' 'lidah buaya' 'lidah buaya'\n",
      " 'lidah buaya' 'lidah buaya' 'lidah buaya' 'lidah buaya' 'lidah buaya'\n",
      " 'lidah buaya' 'lidah buaya' 'lidah buaya' 'lidah buaya' 'lidah buaya'\n",
      " 'lidah buaya' 'lidah buaya' 'lidah buaya' 'lidah buaya' 'lidah buaya'\n",
      " 'lidah buaya' 'lidah buaya' 'lidah buaya' 'lidah buaya' 'lidah buaya'\n",
      " 'lidah buaya' 'lidah buaya' 'lidah buaya' 'lidah buaya' 'lidah buaya'\n",
      " 'lidah buaya' 'lidah buaya' 'lidah buaya' 'lidah buaya' 'lidah buaya'\n",
      " 'lidah buaya' 'lidah buaya' 'lidah buaya' 'lidah buaya' 'lidah buaya'\n",
      " 'lidah buaya' 'lidah buaya' 'lidah buaya' 'lidah buaya' 'lidah buaya'\n",
      " 'lidah buaya' 'lidah buaya' 'lidah buaya' 'lidah buaya' 'lidah buaya'\n",
      " 'pepaya' 'pepaya' 'pepaya' 'pepaya' 'pepaya' 'pepaya' 'pepaya' 'pepaya'\n",
      " 'pepaya' 'pepaya' 'pepaya' 'pepaya' 'pepaya' 'pepaya' 'pepaya' 'pepaya'\n",
      " 'pepaya' 'pepaya' 'pepaya' 'pepaya' 'pepaya' 'pepaya' 'pepaya' 'pepaya'\n",
      " 'pepaya' 'pepaya' 'pepaya' 'pepaya' 'pepaya' 'pepaya' 'pepaya' 'pepaya'\n",
      " 'pepaya' 'pepaya' 'pepaya' 'pepaya' 'pepaya' 'pepaya' 'pepaya' 'pepaya'\n",
      " 'pepaya' 'pepaya' 'pepaya' 'pepaya' 'pepaya' 'pepaya' 'pepaya' 'pepaya'\n",
      " 'pepaya' 'pepaya']\n"
     ]
    }
   ],
   "source": [
    "print(labels)"
   ]
  },
  {
   "cell_type": "code",
   "execution_count": 8,
   "metadata": {},
   "outputs": [
    {
     "name": "stdout",
     "output_type": "stream",
     "text": [
      "[0 0 0 0 0 0 0 0 0 0 0 0 0 0 0 0 0 0 0 0 0 0 0 0 0 0 0 0 0 0 0 0 0 0 0 0 0\n",
      " 0 0 0 0 0 0 0 0 0 0 0 0 0 1 1 1 1 1 1 1 1 1 1 1 1 1 1 1 1 1 1 1 1 1 1 1 1\n",
      " 1 1 1 1 1 1 1 1 1 1 1 1 1 1 1 1 1 1 1 1 1 1 1 1 1 1]\n"
     ]
    }
   ],
   "source": [
    "# ubah nilai dari labels menjadi binary\n",
    "lb = LabelEncoder()\n",
    "labels = lb.fit_transform(labels)\n",
    "print(labels)"
   ]
  },
  {
   "cell_type": "markdown",
   "metadata": {},
   "source": [
    "<h3>4. Split Dataset</h3>"
   ]
  },
  {
   "cell_type": "code",
   "execution_count": 9,
   "metadata": {},
   "outputs": [],
   "source": [
    "x_train, x_test, y_train, y_test = train_test_split(data, labels, test_size=0.2, random_state=42)"
   ]
  },
  {
   "cell_type": "code",
   "execution_count": 10,
   "metadata": {},
   "outputs": [
    {
     "name": "stdout",
     "output_type": "stream",
     "text": [
      "Ukuran data train = (80, 32, 32, 3)\n",
      "Ukuran data test = (20, 32, 32, 3)\n"
     ]
    }
   ],
   "source": [
    "print('Ukuran data train =', x_train.shape)\n",
    "print('Ukuran data test =', x_test.shape)"
   ]
  },
  {
   "cell_type": "markdown",
   "metadata": {},
   "source": [
    "<h3>5. Build CNN Architecture</h3>"
   ]
  },
  {
   "cell_type": "code",
   "execution_count": 11,
   "metadata": {},
   "outputs": [],
   "source": [
    "model = Sequential()\n",
    "# Extracted Feature Layer\n",
    "model.add(InputLayer(input_shape=[32,32,3]))\n",
    "model.add(Conv2D(filters=32, kernel_size=2, strides=1, padding='same', activation='relu'))\n",
    "model.add(MaxPool2D(pool_size=2, padding='same'))\n",
    "model.add(Conv2D(filters=50, kernel_size=2, strides=1, padding='same', activation='relu'))\n",
    "model.add(MaxPool2D(pool_size=2, padding='same'))\n",
    "model.add(Dropout(0.25))\n",
    "model.add(Flatten())\n",
    "# Fully Connected Layer\n",
    "model.add(Dense(512, activation='relu'))\n",
    "model.add(Dropout(0.5))\n",
    "model.add(Dense(1, activation='sigmoid'))"
   ]
  },
  {
   "cell_type": "code",
   "execution_count": 12,
   "metadata": {},
   "outputs": [
    {
     "name": "stdout",
     "output_type": "stream",
     "text": [
      "Model: \"sequential\"\n",
      "_________________________________________________________________\n",
      " Layer (type)                Output Shape              Param #   \n",
      "=================================================================\n",
      " conv2d (Conv2D)             (None, 32, 32, 32)        416       \n",
      "                                                                 \n",
      " max_pooling2d (MaxPooling2D  (None, 16, 16, 32)       0         \n",
      " )                                                               \n",
      "                                                                 \n",
      " conv2d_1 (Conv2D)           (None, 16, 16, 50)        6450      \n",
      "                                                                 \n",
      " max_pooling2d_1 (MaxPooling  (None, 8, 8, 50)         0         \n",
      " 2D)                                                             \n",
      "                                                                 \n",
      " dropout (Dropout)           (None, 8, 8, 50)          0         \n",
      "                                                                 \n",
      " flatten (Flatten)           (None, 3200)              0         \n",
      "                                                                 \n",
      " dense (Dense)               (None, 512)               1638912   \n",
      "                                                                 \n",
      " dropout_1 (Dropout)         (None, 512)               0         \n",
      "                                                                 \n",
      " dense_1 (Dense)             (None, 1)                 513       \n",
      "                                                                 \n",
      "=================================================================\n",
      "Total params: 1,646,291\n",
      "Trainable params: 1,646,291\n",
      "Non-trainable params: 0\n",
      "_________________________________________________________________\n"
     ]
    }
   ],
   "source": [
    "model.summary()"
   ]
  },
  {
   "cell_type": "code",
   "execution_count": 13,
   "metadata": {},
   "outputs": [],
   "source": [
    "# tentukan hyperparameter\n",
    "lr = 0.001\n",
    "max_epochs = 100\n",
    "opt_funct = Adam(learning_rate=lr)"
   ]
  },
  {
   "cell_type": "code",
   "execution_count": 14,
   "metadata": {},
   "outputs": [],
   "source": [
    "# compile arsitektur yang telah dibuat\n",
    "model.compile(loss = 'binary_crossentropy', \n",
    "              optimizer = opt_funct, \n",
    "              metrics = ['accuracy'])"
   ]
  },
  {
   "cell_type": "markdown",
   "metadata": {},
   "source": [
    "<h3>6. Train Model</h3>"
   ]
  },
  {
   "cell_type": "code",
   "execution_count": 15,
   "metadata": {},
   "outputs": [
    {
     "name": "stdout",
     "output_type": "stream",
     "text": [
      "Epoch 1/100\n",
      "3/3 [==============================] - 1s 151ms/step - loss: 0.7769 - accuracy: 0.4125 - val_loss: 0.5732 - val_accuracy: 1.0000\n",
      "Epoch 2/100\n",
      "3/3 [==============================] - 0s 51ms/step - loss: 0.5843 - accuracy: 0.7000 - val_loss: 0.5336 - val_accuracy: 0.7000\n",
      "Epoch 3/100\n",
      "3/3 [==============================] - 0s 56ms/step - loss: 0.4414 - accuracy: 0.8750 - val_loss: 0.3309 - val_accuracy: 1.0000\n",
      "Epoch 4/100\n",
      "3/3 [==============================] - 0s 53ms/step - loss: 0.3019 - accuracy: 1.0000 - val_loss: 0.2107 - val_accuracy: 1.0000\n",
      "Epoch 5/100\n",
      "3/3 [==============================] - 0s 59ms/step - loss: 0.1792 - accuracy: 1.0000 - val_loss: 0.0949 - val_accuracy: 1.0000\n",
      "Epoch 6/100\n",
      "3/3 [==============================] - 0s 53ms/step - loss: 0.0783 - accuracy: 1.0000 - val_loss: 0.0445 - val_accuracy: 1.0000\n",
      "Epoch 7/100\n",
      "3/3 [==============================] - 0s 59ms/step - loss: 0.0400 - accuracy: 1.0000 - val_loss: 0.0243 - val_accuracy: 1.0000\n",
      "Epoch 8/100\n",
      "3/3 [==============================] - 0s 59ms/step - loss: 0.0184 - accuracy: 1.0000 - val_loss: 0.0133 - val_accuracy: 1.0000\n",
      "Epoch 9/100\n",
      "3/3 [==============================] - 0s 86ms/step - loss: 0.0076 - accuracy: 1.0000 - val_loss: 0.0030 - val_accuracy: 1.0000\n",
      "Epoch 10/100\n",
      "3/3 [==============================] - 0s 52ms/step - loss: 0.0036 - accuracy: 1.0000 - val_loss: 0.0014 - val_accuracy: 1.0000\n",
      "Epoch 11/100\n",
      "3/3 [==============================] - 0s 52ms/step - loss: 0.0021 - accuracy: 1.0000 - val_loss: 7.5967e-04 - val_accuracy: 1.0000\n",
      "Epoch 12/100\n",
      "3/3 [==============================] - 0s 56ms/step - loss: 0.0015 - accuracy: 1.0000 - val_loss: 3.9712e-04 - val_accuracy: 1.0000\n",
      "Epoch 13/100\n",
      "3/3 [==============================] - 0s 57ms/step - loss: 9.0196e-04 - accuracy: 1.0000 - val_loss: 2.7183e-04 - val_accuracy: 1.0000\n",
      "Epoch 14/100\n",
      "3/3 [==============================] - 0s 54ms/step - loss: 2.5898e-04 - accuracy: 1.0000 - val_loss: 2.6684e-04 - val_accuracy: 1.0000\n",
      "Epoch 15/100\n",
      "3/3 [==============================] - 0s 53ms/step - loss: 4.5541e-04 - accuracy: 1.0000 - val_loss: 3.0414e-04 - val_accuracy: 1.0000\n",
      "Epoch 16/100\n",
      "3/3 [==============================] - 0s 48ms/step - loss: 3.4452e-04 - accuracy: 1.0000 - val_loss: 2.6052e-04 - val_accuracy: 1.0000\n",
      "Epoch 17/100\n",
      "3/3 [==============================] - 0s 53ms/step - loss: 1.8273e-04 - accuracy: 1.0000 - val_loss: 2.0281e-04 - val_accuracy: 1.0000\n",
      "Epoch 18/100\n",
      "3/3 [==============================] - 0s 53ms/step - loss: 1.9781e-04 - accuracy: 1.0000 - val_loss: 1.4256e-04 - val_accuracy: 1.0000\n",
      "Epoch 19/100\n",
      "3/3 [==============================] - 0s 52ms/step - loss: 2.1726e-04 - accuracy: 1.0000 - val_loss: 9.9694e-05 - val_accuracy: 1.0000\n",
      "Epoch 20/100\n",
      "3/3 [==============================] - 0s 48ms/step - loss: 1.3122e-04 - accuracy: 1.0000 - val_loss: 7.6592e-05 - val_accuracy: 1.0000\n",
      "Epoch 21/100\n",
      "3/3 [==============================] - 0s 53ms/step - loss: 9.7520e-05 - accuracy: 1.0000 - val_loss: 6.5560e-05 - val_accuracy: 1.0000\n",
      "Epoch 22/100\n",
      "3/3 [==============================] - 0s 52ms/step - loss: 8.9692e-05 - accuracy: 1.0000 - val_loss: 5.8756e-05 - val_accuracy: 1.0000\n",
      "Epoch 23/100\n",
      "3/3 [==============================] - 0s 50ms/step - loss: 1.3003e-04 - accuracy: 1.0000 - val_loss: 5.4485e-05 - val_accuracy: 1.0000\n",
      "Epoch 24/100\n",
      "3/3 [==============================] - 0s 49ms/step - loss: 1.6994e-04 - accuracy: 1.0000 - val_loss: 5.2292e-05 - val_accuracy: 1.0000\n",
      "Epoch 25/100\n",
      "3/3 [==============================] - 0s 51ms/step - loss: 7.9632e-05 - accuracy: 1.0000 - val_loss: 5.1948e-05 - val_accuracy: 1.0000\n",
      "Epoch 26/100\n",
      "3/3 [==============================] - 0s 55ms/step - loss: 8.6687e-05 - accuracy: 1.0000 - val_loss: 5.1184e-05 - val_accuracy: 1.0000\n",
      "Epoch 27/100\n",
      "3/3 [==============================] - 0s 50ms/step - loss: 8.7253e-05 - accuracy: 1.0000 - val_loss: 5.0644e-05 - val_accuracy: 1.0000\n",
      "Epoch 28/100\n",
      "3/3 [==============================] - 0s 56ms/step - loss: 1.0335e-04 - accuracy: 1.0000 - val_loss: 5.0516e-05 - val_accuracy: 1.0000\n",
      "Epoch 29/100\n",
      "3/3 [==============================] - 0s 47ms/step - loss: 5.7107e-05 - accuracy: 1.0000 - val_loss: 5.0890e-05 - val_accuracy: 1.0000\n",
      "Epoch 30/100\n",
      "3/3 [==============================] - 0s 54ms/step - loss: 8.0187e-05 - accuracy: 1.0000 - val_loss: 4.9937e-05 - val_accuracy: 1.0000\n",
      "Epoch 31/100\n",
      "3/3 [==============================] - 0s 49ms/step - loss: 1.1332e-04 - accuracy: 1.0000 - val_loss: 4.7557e-05 - val_accuracy: 1.0000\n",
      "Epoch 32/100\n",
      "3/3 [==============================] - 0s 49ms/step - loss: 7.2062e-05 - accuracy: 1.0000 - val_loss: 4.4658e-05 - val_accuracy: 1.0000\n",
      "Epoch 33/100\n",
      "3/3 [==============================] - 0s 48ms/step - loss: 1.4732e-04 - accuracy: 1.0000 - val_loss: 4.6148e-05 - val_accuracy: 1.0000\n",
      "Epoch 34/100\n",
      "3/3 [==============================] - 0s 52ms/step - loss: 9.6374e-05 - accuracy: 1.0000 - val_loss: 4.6579e-05 - val_accuracy: 1.0000\n",
      "Epoch 35/100\n",
      "3/3 [==============================] - 0s 53ms/step - loss: 5.5193e-05 - accuracy: 1.0000 - val_loss: 4.3706e-05 - val_accuracy: 1.0000\n",
      "Epoch 36/100\n",
      "3/3 [==============================] - 0s 48ms/step - loss: 7.2768e-05 - accuracy: 1.0000 - val_loss: 4.0693e-05 - val_accuracy: 1.0000\n",
      "Epoch 37/100\n",
      "3/3 [==============================] - 0s 54ms/step - loss: 6.9622e-05 - accuracy: 1.0000 - val_loss: 3.7521e-05 - val_accuracy: 1.0000\n",
      "Epoch 38/100\n",
      "3/3 [==============================] - 0s 54ms/step - loss: 4.6617e-05 - accuracy: 1.0000 - val_loss: 3.4937e-05 - val_accuracy: 1.0000\n",
      "Epoch 39/100\n",
      "3/3 [==============================] - 0s 57ms/step - loss: 4.8126e-05 - accuracy: 1.0000 - val_loss: 3.2782e-05 - val_accuracy: 1.0000\n",
      "Epoch 40/100\n",
      "3/3 [==============================] - 0s 48ms/step - loss: 1.4628e-04 - accuracy: 1.0000 - val_loss: 3.2053e-05 - val_accuracy: 1.0000\n",
      "Epoch 41/100\n",
      "3/3 [==============================] - 0s 75ms/step - loss: 7.7454e-05 - accuracy: 1.0000 - val_loss: 3.4010e-05 - val_accuracy: 1.0000\n",
      "Epoch 42/100\n",
      "3/3 [==============================] - 0s 51ms/step - loss: 6.3671e-05 - accuracy: 1.0000 - val_loss: 3.4511e-05 - val_accuracy: 1.0000\n",
      "Epoch 43/100\n",
      "3/3 [==============================] - 0s 50ms/step - loss: 4.6215e-05 - accuracy: 1.0000 - val_loss: 3.3183e-05 - val_accuracy: 1.0000\n",
      "Epoch 44/100\n",
      "3/3 [==============================] - 0s 55ms/step - loss: 5.2085e-05 - accuracy: 1.0000 - val_loss: 3.1421e-05 - val_accuracy: 1.0000\n",
      "Epoch 45/100\n",
      "3/3 [==============================] - 0s 49ms/step - loss: 4.4893e-05 - accuracy: 1.0000 - val_loss: 2.9111e-05 - val_accuracy: 1.0000\n",
      "Epoch 46/100\n",
      "3/3 [==============================] - 0s 57ms/step - loss: 3.1104e-05 - accuracy: 1.0000 - val_loss: 2.7196e-05 - val_accuracy: 1.0000\n",
      "Epoch 47/100\n",
      "3/3 [==============================] - 0s 50ms/step - loss: 3.0605e-05 - accuracy: 1.0000 - val_loss: 2.5355e-05 - val_accuracy: 1.0000\n",
      "Epoch 48/100\n",
      "3/3 [==============================] - 0s 49ms/step - loss: 3.4683e-05 - accuracy: 1.0000 - val_loss: 2.3709e-05 - val_accuracy: 1.0000\n",
      "Epoch 49/100\n",
      "3/3 [==============================] - 0s 52ms/step - loss: 2.9155e-05 - accuracy: 1.0000 - val_loss: 2.2264e-05 - val_accuracy: 1.0000\n",
      "Epoch 50/100\n",
      "3/3 [==============================] - 0s 48ms/step - loss: 4.1980e-05 - accuracy: 1.0000 - val_loss: 2.0965e-05 - val_accuracy: 1.0000\n",
      "Epoch 51/100\n",
      "3/3 [==============================] - 0s 48ms/step - loss: 4.5230e-05 - accuracy: 1.0000 - val_loss: 1.9952e-05 - val_accuracy: 1.0000\n",
      "Epoch 52/100\n",
      "3/3 [==============================] - 0s 52ms/step - loss: 4.4987e-05 - accuracy: 1.0000 - val_loss: 1.9655e-05 - val_accuracy: 1.0000\n",
      "Epoch 53/100\n",
      "3/3 [==============================] - 0s 51ms/step - loss: 3.3662e-05 - accuracy: 1.0000 - val_loss: 1.9399e-05 - val_accuracy: 1.0000\n",
      "Epoch 54/100\n",
      "3/3 [==============================] - 0s 48ms/step - loss: 3.0080e-05 - accuracy: 1.0000 - val_loss: 1.9562e-05 - val_accuracy: 1.0000\n",
      "Epoch 55/100\n",
      "3/3 [==============================] - 0s 48ms/step - loss: 3.7894e-05 - accuracy: 1.0000 - val_loss: 1.7860e-05 - val_accuracy: 1.0000\n",
      "Epoch 56/100\n",
      "3/3 [==============================] - 0s 48ms/step - loss: 2.4070e-05 - accuracy: 1.0000 - val_loss: 1.7043e-05 - val_accuracy: 1.0000\n",
      "Epoch 57/100\n",
      "3/3 [==============================] - 0s 54ms/step - loss: 5.4563e-05 - accuracy: 1.0000 - val_loss: 1.5922e-05 - val_accuracy: 1.0000\n",
      "Epoch 58/100\n",
      "3/3 [==============================] - 0s 52ms/step - loss: 3.4398e-05 - accuracy: 1.0000 - val_loss: 1.5260e-05 - val_accuracy: 1.0000\n",
      "Epoch 59/100\n",
      "3/3 [==============================] - 0s 48ms/step - loss: 3.5654e-05 - accuracy: 1.0000 - val_loss: 1.5083e-05 - val_accuracy: 1.0000\n",
      "Epoch 60/100\n",
      "3/3 [==============================] - 0s 54ms/step - loss: 3.0493e-05 - accuracy: 1.0000 - val_loss: 1.5048e-05 - val_accuracy: 1.0000\n",
      "Epoch 61/100\n",
      "3/3 [==============================] - 0s 48ms/step - loss: 2.7489e-05 - accuracy: 1.0000 - val_loss: 1.4062e-05 - val_accuracy: 1.0000\n",
      "Epoch 62/100\n",
      "3/3 [==============================] - 0s 48ms/step - loss: 4.2966e-05 - accuracy: 1.0000 - val_loss: 1.2805e-05 - val_accuracy: 1.0000\n",
      "Epoch 63/100\n",
      "3/3 [==============================] - 0s 47ms/step - loss: 2.0774e-05 - accuracy: 1.0000 - val_loss: 1.1973e-05 - val_accuracy: 1.0000\n",
      "Epoch 64/100\n",
      "3/3 [==============================] - 0s 49ms/step - loss: 1.8650e-05 - accuracy: 1.0000 - val_loss: 1.1331e-05 - val_accuracy: 1.0000\n",
      "Epoch 65/100\n",
      "3/3 [==============================] - 0s 52ms/step - loss: 1.9606e-05 - accuracy: 1.0000 - val_loss: 1.0840e-05 - val_accuracy: 1.0000\n",
      "Epoch 66/100\n",
      "3/3 [==============================] - 0s 47ms/step - loss: 6.1233e-05 - accuracy: 1.0000 - val_loss: 1.0164e-05 - val_accuracy: 1.0000\n",
      "Epoch 67/100\n",
      "3/3 [==============================] - 0s 50ms/step - loss: 2.8428e-05 - accuracy: 1.0000 - val_loss: 9.2360e-06 - val_accuracy: 1.0000\n",
      "Epoch 68/100\n",
      "3/3 [==============================] - 0s 49ms/step - loss: 3.1567e-05 - accuracy: 1.0000 - val_loss: 8.6593e-06 - val_accuracy: 1.0000\n",
      "Epoch 69/100\n",
      "3/3 [==============================] - 0s 51ms/step - loss: 1.8041e-05 - accuracy: 1.0000 - val_loss: 8.0695e-06 - val_accuracy: 1.0000\n",
      "Epoch 70/100\n",
      "3/3 [==============================] - 0s 48ms/step - loss: 2.1001e-05 - accuracy: 1.0000 - val_loss: 7.4815e-06 - val_accuracy: 1.0000\n",
      "Epoch 71/100\n",
      "3/3 [==============================] - 0s 55ms/step - loss: 1.7173e-05 - accuracy: 1.0000 - val_loss: 6.9990e-06 - val_accuracy: 1.0000\n",
      "Epoch 72/100\n",
      "3/3 [==============================] - 0s 51ms/step - loss: 2.4637e-05 - accuracy: 1.0000 - val_loss: 6.6081e-06 - val_accuracy: 1.0000\n",
      "Epoch 73/100\n",
      "3/3 [==============================] - 0s 47ms/step - loss: 1.1567e-05 - accuracy: 1.0000 - val_loss: 6.5102e-06 - val_accuracy: 1.0000\n",
      "Epoch 74/100\n",
      "3/3 [==============================] - 0s 49ms/step - loss: 8.9822e-06 - accuracy: 1.0000 - val_loss: 6.3324e-06 - val_accuracy: 1.0000\n",
      "Epoch 75/100\n",
      "3/3 [==============================] - 0s 50ms/step - loss: 1.5389e-05 - accuracy: 1.0000 - val_loss: 6.0236e-06 - val_accuracy: 1.0000\n",
      "Epoch 76/100\n",
      "3/3 [==============================] - 0s 52ms/step - loss: 1.2608e-05 - accuracy: 1.0000 - val_loss: 5.8533e-06 - val_accuracy: 1.0000\n",
      "Epoch 77/100\n",
      "3/3 [==============================] - 0s 60ms/step - loss: 1.6527e-05 - accuracy: 1.0000 - val_loss: 5.6991e-06 - val_accuracy: 1.0000\n",
      "Epoch 78/100\n",
      "3/3 [==============================] - 0s 50ms/step - loss: 1.1618e-05 - accuracy: 1.0000 - val_loss: 5.5707e-06 - val_accuracy: 1.0000\n",
      "Epoch 79/100\n",
      "3/3 [==============================] - 0s 49ms/step - loss: 1.0821e-05 - accuracy: 1.0000 - val_loss: 5.3915e-06 - val_accuracy: 1.0000\n",
      "Epoch 80/100\n",
      "3/3 [==============================] - 0s 56ms/step - loss: 2.9810e-05 - accuracy: 1.0000 - val_loss: 5.1252e-06 - val_accuracy: 1.0000\n",
      "Epoch 81/100\n",
      "3/3 [==============================] - 0s 53ms/step - loss: 2.9960e-05 - accuracy: 1.0000 - val_loss: 4.7966e-06 - val_accuracy: 1.0000\n",
      "Epoch 82/100\n",
      "3/3 [==============================] - 0s 51ms/step - loss: 5.8646e-06 - accuracy: 1.0000 - val_loss: 4.5415e-06 - val_accuracy: 1.0000\n",
      "Epoch 83/100\n",
      "3/3 [==============================] - 0s 58ms/step - loss: 7.7515e-06 - accuracy: 1.0000 - val_loss: 4.3496e-06 - val_accuracy: 1.0000\n",
      "Epoch 84/100\n",
      "3/3 [==============================] - 0s 53ms/step - loss: 1.0221e-05 - accuracy: 1.0000 - val_loss: 4.2231e-06 - val_accuracy: 1.0000\n",
      "Epoch 85/100\n",
      "3/3 [==============================] - 0s 53ms/step - loss: 6.9380e-06 - accuracy: 1.0000 - val_loss: 4.1104e-06 - val_accuracy: 1.0000\n",
      "Epoch 86/100\n",
      "3/3 [==============================] - 0s 49ms/step - loss: 5.7273e-06 - accuracy: 1.0000 - val_loss: 4.0136e-06 - val_accuracy: 1.0000\n",
      "Epoch 87/100\n",
      "3/3 [==============================] - 0s 52ms/step - loss: 8.1621e-06 - accuracy: 1.0000 - val_loss: 3.9093e-06 - val_accuracy: 1.0000\n",
      "Epoch 88/100\n",
      "3/3 [==============================] - 0s 55ms/step - loss: 4.4487e-06 - accuracy: 1.0000 - val_loss: 3.8099e-06 - val_accuracy: 1.0000\n",
      "Epoch 89/100\n",
      "3/3 [==============================] - 0s 45ms/step - loss: 3.9183e-06 - accuracy: 1.0000 - val_loss: 3.7205e-06 - val_accuracy: 1.0000\n",
      "Epoch 90/100\n",
      "3/3 [==============================] - 0s 47ms/step - loss: 1.0135e-05 - accuracy: 1.0000 - val_loss: 3.6411e-06 - val_accuracy: 1.0000\n",
      "Epoch 91/100\n",
      "3/3 [==============================] - 0s 51ms/step - loss: 8.9019e-06 - accuracy: 1.0000 - val_loss: 3.5720e-06 - val_accuracy: 1.0000\n",
      "Epoch 92/100\n",
      "3/3 [==============================] - 0s 56ms/step - loss: 8.4111e-06 - accuracy: 1.0000 - val_loss: 3.5143e-06 - val_accuracy: 1.0000\n",
      "Epoch 93/100\n",
      "3/3 [==============================] - 0s 53ms/step - loss: 9.5119e-06 - accuracy: 1.0000 - val_loss: 3.4458e-06 - val_accuracy: 1.0000\n",
      "Epoch 94/100\n",
      "3/3 [==============================] - 0s 74ms/step - loss: 7.7092e-06 - accuracy: 1.0000 - val_loss: 3.3985e-06 - val_accuracy: 1.0000\n",
      "Epoch 95/100\n",
      "3/3 [==============================] - 0s 51ms/step - loss: 5.3646e-06 - accuracy: 1.0000 - val_loss: 3.3530e-06 - val_accuracy: 1.0000\n",
      "Epoch 96/100\n",
      "3/3 [==============================] - 0s 50ms/step - loss: 7.8175e-06 - accuracy: 1.0000 - val_loss: 3.2981e-06 - val_accuracy: 1.0000\n",
      "Epoch 97/100\n",
      "3/3 [==============================] - 0s 51ms/step - loss: 4.5082e-06 - accuracy: 1.0000 - val_loss: 3.2228e-06 - val_accuracy: 1.0000\n",
      "Epoch 98/100\n",
      "3/3 [==============================] - 0s 49ms/step - loss: 7.2785e-06 - accuracy: 1.0000 - val_loss: 3.1520e-06 - val_accuracy: 1.0000\n",
      "Epoch 99/100\n",
      "3/3 [==============================] - 0s 50ms/step - loss: 3.3493e-06 - accuracy: 1.0000 - val_loss: 3.1033e-06 - val_accuracy: 1.0000\n",
      "Epoch 100/100\n",
      "3/3 [==============================] - 0s 57ms/step - loss: 3.1138e-06 - accuracy: 1.0000 - val_loss: 3.0565e-06 - val_accuracy: 1.0000\n"
     ]
    }
   ],
   "source": [
    "H = model.fit(x_train, y_train, validation_data=(x_test, y_test), \n",
    "          epochs=max_epochs, batch_size=32)"
   ]
  },
  {
   "cell_type": "code",
   "execution_count": 16,
   "metadata": {},
   "outputs": [
    {
     "data": {
      "image/png": "[encoded data removed]",
      "text/plain": [
       "<Figure size 432x288 with 1 Axes>"
      ]
     },
     "metadata": {},
     "output_type": "display_data"
    }
   ],
   "source": [
    "N = np.arange(0, max_epochs)\n",
    "plt.style.use(\"ggplot\")\n",
    "plt.figure()\n",
    "plt.plot(N, H.history[\"loss\"], label=\"train_loss\")\n",
    "plt.plot(N, H.history[\"val_loss\"], label=\"val_loss\")\n",
    "#plt.plot(N, H.history[\"accuracy\"], label=\"train_acc\")\n",
    "#plt.plot(N, H.history[\"val_accuracy\"], label=\"val_acc\")\n",
    "plt.xlabel(\"Epoch #\")\n",
    "plt.legend()\n",
    "plt.show()"
   ]
  },
  {
   "cell_type": "markdown",
   "metadata": {},
   "source": [
    "<h3>7. Evaluate the Model</h3>"
   ]
  },
  {
   "cell_type": "code",
   "execution_count": 17,
   "metadata": {},
   "outputs": [
    {
     "name": "stdout",
     "output_type": "stream",
     "text": [
      "              precision    recall  f1-score   support\n",
      "\n",
      " lidah buaya       1.00      1.00      1.00        12\n",
      "      pepaya       1.00      1.00      1.00         8\n",
      "\n",
      "    accuracy                           1.00        20\n",
      "   macro avg       1.00      1.00      1.00        20\n",
      "weighted avg       1.00      1.00      1.00        20\n",
      "\n"
     ]
    },
    {
     "name": "stderr",
     "output_type": "stream",
     "text": [
      "C:\\Users\\hp\\AppData\\Local\\Temp/ipykernel_8116/954476436.py:3: DeprecationWarning: `np.int` is a deprecated alias for the builtin `int`. To silence this warning, use `int` by itself. Doing this will not modify any behavior and is safe. When replacing `np.int`, you may wish to use e.g. `np.int64` or `np.int32` to specify the precision. If you wish to review your current use, check the release note link for additional information.\n",
      "Deprecated in NumPy 1.20; for more details and guidance: https://numpy.org/devdocs/release/1.20.0-notes.html#deprecations\n",
      "  target = (predictions > 0.5).astype(np.int)\n"
     ]
    }
   ],
   "source": [
    "# menghitung nilai akurasi model terhadap data test\n",
    "predictions = model.predict(x_test, batch_size=32)\n",
    "target = (predictions > 0.5).astype(np.int)\n",
    "print(classification_report(y_test, target, target_names=label_list))"
   ]
  },
  {
   "cell_type": "code",
   "execution_count": 25,
   "metadata": {},
   "outputs": [
    {
     "name": "stdout",
     "output_type": "stream",
     "text": [
      "[[1.]]\n"
     ]
    }
   ],
   "source": [
    "# uji model menggunakan image lain\n",
    "queryPath = imagePaths+'pepaya_001.jpg'\n",
    "query = cv2.imread(queryPath)\n",
    "output = cv2.resize(query, (500,400))\n",
    "query = cv2.resize(query, (32, 32))\n",
    "q = []\n",
    "q.append(query)\n",
    "q = np.array(q, dtype='float') / 255.0\n",
    "\n",
    "q_pred = model.predict(q)\n",
    "print(q_pred)"
   ]
  },
  {
   "cell_type": "code",
   "execution_count": 26,
   "metadata": {},
   "outputs": [
    {
     "ename": "error",
     "evalue": "OpenCV(4.5.4-dev) D:\\a\\opencv-python\\opencv-python\\opencv\\modules\\highgui\\src\\window_w32.cpp:1261: error: (-27:Null pointer) NULL window: 'Output' in function 'cvDestroyWindow'\n",
     "output_type": "error",
     "traceback": [
      "\u001b[1;31m---------------------------------------------------------------------------\u001b[0m",
      "\u001b[1;31merror\u001b[0m                                     Traceback (most recent call last)",
      "\u001b[1;32m~\\AppData\\Local\\Temp/ipykernel_8116/1672154556.py\u001b[0m in \u001b[0;36m<module>\u001b[1;34m\u001b[0m\n\u001b[0;32m      9\u001b[0m \u001b[0mcv2\u001b[0m\u001b[1;33m.\u001b[0m\u001b[0mimshow\u001b[0m\u001b[1;33m(\u001b[0m\u001b[1;34m'Output'\u001b[0m\u001b[1;33m,\u001b[0m \u001b[0moutput\u001b[0m\u001b[1;33m)\u001b[0m\u001b[1;33m\u001b[0m\u001b[1;33m\u001b[0m\u001b[0m\n\u001b[0;32m     10\u001b[0m \u001b[0mcv2\u001b[0m\u001b[1;33m.\u001b[0m\u001b[0mwaitKey\u001b[0m\u001b[1;33m(\u001b[0m\u001b[1;33m)\u001b[0m \u001b[1;31m# image tidak akan diclose,sebelum user menekan sembarang tombol\u001b[0m\u001b[1;33m\u001b[0m\u001b[1;33m\u001b[0m\u001b[0m\n\u001b[1;32m---> 11\u001b[1;33m \u001b[0mcv2\u001b[0m\u001b[1;33m.\u001b[0m\u001b[0mdestroyWindow\u001b[0m\u001b[1;33m(\u001b[0m\u001b[1;34m'Output'\u001b[0m\u001b[1;33m)\u001b[0m \u001b[1;31m# image akan diclose\u001b[0m\u001b[1;33m\u001b[0m\u001b[1;33m\u001b[0m\u001b[0m\n\u001b[0m",
      "\u001b[1;31merror\u001b[0m: OpenCV(4.5.4-dev) D:\\a\\opencv-python\\opencv-python\\opencv\\modules\\highgui\\src\\window_w32.cpp:1261: error: (-27:Null pointer) NULL window: 'Output' in function 'cvDestroyWindow'\n"
     ]
    }
   ],
   "source": [
    "if q_pred<=0.5 :\n",
    "    target = \"lidah buaya\"\n",
    "else :\n",
    "    target = \"pepaya\"\n",
    "text = \"{}\".format(target)\n",
    "cv2.putText(output, text, (10, 30), cv2.FONT_HERSHEY_SIMPLEX, 0.7, (0, 0, 255), 2)\n",
    " \n",
    "# menampilkan output image\n",
    "cv2.imshow('Output', output)\n",
    "cv2.waitKey() # image tidak akan diclose,sebelum user menekan sembarang tombol\n",
    "cv2.destroyWindow('Output') # image akan diclose"
   ]
  },
  {
   "cell_type": "code",
   "execution_count": null,
   "metadata": {},
   "outputs": [],
   "source": []
  }
 ],
 "metadata": {
  "kernelspec": {
   "display_name": "Python 3",
   "language": "python",
   "name": "python3"
  },
  "language_info": {
   "codemirror_mode": {
    "name": "ipython",
    "version": 3
   },
   "file_extension": ".py",
   "mimetype": "text/x-python",
   "name": "python",
   "nbconvert_exporter": "python",
   "pygments_lexer": "ipython3",
   "version": "3.9.7"
  }
 },
 "nbformat": 4,
 "nbformat_minor": 4
}
